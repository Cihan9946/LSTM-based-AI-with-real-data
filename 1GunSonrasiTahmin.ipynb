{
  "nbformat": 4,
  "nbformat_minor": 0,
  "metadata": {
    "colab": {
      "provenance": []
    },
    "kernelspec": {
      "name": "python3",
      "display_name": "Python 3"
    },
    "language_info": {

      "name": "python"
    }
  },
  "cells": [
    {
      "cell_type": "code",
      "execution_count": 4,
      "metadata": {
        "colab": {
          "base_uri": "https://localhost:8080/"
        },
        "id": "BCQ8UpWlK3ci",
        "outputId": "44e13311-f957-422e-aa24-0f9e07ada3f1"
      },
      "outputs": [
        {
          "output_type": "stream",
          "name": "stdout",
          "text": [
            "       id              date_v   reg  yukh   power  temp w_status\n",
            "0       1 2024-01-18 18:45:00  4214  6047  617000     0     rain\n",
            "1       2 2024-01-18 19:00:00  4214  6046  617000     0     rain\n",
            "2       3 2024-01-18 19:15:00  4213  6046  617000     0     rain\n",
            "3       4 2024-01-18 19:30:00  4213  6045  616000     0     rain\n",
            "4       5 2024-01-18 19:45:00  4212  6046  616000     0     rain\n",
            "..    ...                 ...   ...   ...     ...   ...      ...\n",
            "873  2902 2024-01-27 23:30:00  4149  6006  303000     0        0\n",
            "874  2904 2024-01-27 23:45:00  4148  6005  303000     0        0\n",
            "875  2907 2024-01-28 00:00:00  4149  6004  303000     0        0\n",
            "876  2909 2024-01-28 00:15:00  4149  6005  301000     0        0\n",
            "877  2911 2024-01-28 00:30:00  4150  6005  302000     0        0\n",
            "\n",
            "[878 rows x 7 columns]\n"
          ]
        }
      ],
      "source": [
        "import pandas as pd\n",
        "from datetime import timedelta\n",
        "\n",
        "# Excel dosyasını oku\n",
        "df = pd.read_excel('test.xlsx')\n",
        "\n",
        "# 'date_v' kolonundaki değerlere 1 saat ekle\n",
        "df['date_v'] = pd.to_datetime(df['date_v']) + timedelta(hours=24)\n",
        "\n",
        "# Güncellenmiş verileri başka bir Excel dosyasına kaydet\n",
        "\n",
        "df.to_excel('guncellenmis_veriseti.xlsx', index=False)\n",
        "\n",
        "sondata= pd.read_excel('guncellenmis_veriseti.xlsx')\n",
        "print(sondata)"
      ]
    },
    {
      "cell_type": "code",
      "source": [
        "data=pd.read_excel(\"guncellenmis_veriseti.xlsx\")\n"
      ],
      "metadata": {
        "colab": {
          "base_uri": "https://localhost:8080/"
        },
        "id": "v5xv2daYLXww",
        "outputId": "947dc7f8-e74f-482d-add0-727cc1ff7b48"
      },
      "execution_count": 6,
      "outputs": [
        {
          "output_type": "stream",
          "name": "stdout",
          "text": [
            "       id              date_v   reg  yukh   power  temp w_status\n",
            "0       1 2024-01-18 18:45:00  4214  6047  617000     0     rain\n",
            "1       2 2024-01-18 19:00:00  4214  6046  617000     0     rain\n",
            "2       3 2024-01-18 19:15:00  4213  6046  617000     0     rain\n",
            "3       4 2024-01-18 19:30:00  4213  6045  616000     0     rain\n",
            "4       5 2024-01-18 19:45:00  4212  6046  616000     0     rain\n",
            "..    ...                 ...   ...   ...     ...   ...      ...\n",
            "873  2902 2024-01-27 23:30:00  4149  6006  303000     0        0\n",
            "874  2904 2024-01-27 23:45:00  4148  6005  303000     0        0\n",
            "875  2907 2024-01-28 00:00:00  4149  6004  303000     0        0\n",
            "876  2909 2024-01-28 00:15:00  4149  6005  301000     0        0\n",
            "877  2911 2024-01-28 00:30:00  4150  6005  302000     0        0\n",
            "\n",
            "[878 rows x 7 columns]\n"
          ]
        }
      ]
    },
    {
      "cell_type": "code",
      "source": [
        "data=data.drop([\"id\",\"temp\",\"w_status\"],axis=1)\n",
        "print(data)"
      ],
      "metadata": {
        "colab": {
          "base_uri": "https://localhost:8080/"
        },
        "id": "19jhKAjKL5BK",
        "outputId": "046f6ddd-c147-4e32-8e4b-50f845905109"
      },
      "execution_count": 7,
      "outputs": [
        {
          "output_type": "stream",
          "name": "stdout",
          "text": [
            "                 date_v   reg  yukh   power\n",
            "0   2024-01-18 18:45:00  4214  6047  617000\n",
            "1   2024-01-18 19:00:00  4214  6046  617000\n",
            "2   2024-01-18 19:15:00  4213  6046  617000\n",
            "3   2024-01-18 19:30:00  4213  6045  616000\n",
            "4   2024-01-18 19:45:00  4212  6046  616000\n",
            "..                  ...   ...   ...     ...\n",
            "873 2024-01-27 23:30:00  4149  6006  303000\n",
            "874 2024-01-27 23:45:00  4148  6005  303000\n",
            "875 2024-01-28 00:00:00  4149  6004  303000\n",
            "876 2024-01-28 00:15:00  4149  6005  301000\n",
            "877 2024-01-28 00:30:00  4150  6005  302000\n",
            "\n",
            "[878 rows x 4 columns]\n"
          ]
        }
      ]
    },
    {
      "cell_type": "code",
      "source": [
        "from datetime import datetime\n",
        "data['date_v'] = pd.to_datetime(data['date_v'])\n",
        "data['unix_time'] = data['date_v'].apply(lambda x: int((x - datetime(1970, 1, 1)).total_seconds()))\n",
        "data=data.drop(\"date_v\",axis=1)\n",
        "print(data)"
      ],
      "metadata": {
        "colab": {
          "base_uri": "https://localhost:8080/"
        },
        "id": "4BPHIsT5MCQ9",
        "outputId": "7fb745c2-3337-431d-a3f9-4ab0efc46108"
      },
      "execution_count": 9,
      "outputs": [
        {
          "output_type": "stream",
          "name": "stdout",
          "text": [
            "      reg  yukh   power   unix_time\n",
            "0    4214  6047  617000  1705603500\n",
            "1    4214  6046  617000  1705604400\n",
            "2    4213  6046  617000  1705605300\n",
            "3    4213  6045  616000  1705606200\n",
            "4    4212  6046  616000  1705607100\n",
            "..    ...   ...     ...         ...\n",
            "873  4149  6006  303000  1706398200\n",
            "874  4148  6005  303000  1706399100\n",
            "875  4149  6004  303000  1706400000\n",
            "876  4149  6005  301000  1706400900\n",
            "877  4150  6005  302000  1706401800\n",
            "\n",
            "[878 rows x 4 columns]\n"
          ]
        }
      ]
    },
    {
      "cell_type": "code",
      "source": [
        "data=data[(data != 0).all(axis=1)]\n",
        "print(data)"
      ],
      "metadata": {
        "colab": {
          "base_uri": "https://localhost:8080/"
        },
        "id": "7AUDwbcsMM5I",
        "outputId": "d15b2e62-defc-430b-c6eb-0e08ddba0e29"
      },
      "execution_count": 10,
      "outputs": [
        {
          "output_type": "stream",
          "name": "stdout",
          "text": [
            "      reg  yukh   power   unix_time\n",
            "0    4214  6047  617000  1705603500\n",
            "1    4214  6046  617000  1705604400\n",
            "2    4213  6046  617000  1705605300\n",
            "3    4213  6045  616000  1705606200\n",
            "4    4212  6046  616000  1705607100\n",
            "..    ...   ...     ...         ...\n",
            "873  4149  6006  303000  1706398200\n",
            "874  4148  6005  303000  1706399100\n",
            "875  4149  6004  303000  1706400000\n",
            "876  4149  6005  301000  1706400900\n",
            "877  4150  6005  302000  1706401800\n",
            "\n",
            "[876 rows x 4 columns]\n"
          ]
        }
      ]
    },
    {
      "cell_type": "code",
      "source": [
        "data=data.dropna()\n",
        "print(data)"
      ],
      "metadata": {
        "colab": {
          "base_uri": "https://localhost:8080/"
        },
        "id": "ogg_PFBMMR_0",
        "outputId": "52e0903c-e755-46d1-fda5-a7e7d900173a"
      },
      "execution_count": 11,
      "outputs": [
        {
          "output_type": "stream",
          "name": "stdout",
          "text": [
            "      reg  yukh   power   unix_time\n",
            "0    4214  6047  617000  1705603500\n",
            "1    4214  6046  617000  1705604400\n",
            "2    4213  6046  617000  1705605300\n",
            "3    4213  6045  616000  1705606200\n",
            "4    4212  6046  616000  1705607100\n",
            "..    ...   ...     ...         ...\n",
            "873  4149  6006  303000  1706398200\n",
            "874  4148  6005  303000  1706399100\n",
            "875  4149  6004  303000  1706400000\n",
            "876  4149  6005  301000  1706400900\n",
            "877  4150  6005  302000  1706401800\n",
            "\n",
            "[876 rows x 4 columns]\n"
          ]
        }
      ]
    },
    {
      "cell_type": "code",
      "source": [
        "import pandas as pd\n",
        "import numpy as np\n",
        "from datetime import datetime\n",
        "from sklearn.preprocessing import MinMaxScaler\n",
        "from sklearn.metrics import r2_score\n",
        "from keras.models import load_model\n",
        "\n",
        "# Veriyi yükleme ve gereksiz sütunları kaldırma\n",
        "data = pd.read_excel(\"guncellenmis_veriseti.xlsx\")\n",
        "data = data.drop([\"id\", \"temp\", \"w_status\"], axis=1)\n",
        "\n",
        "data = data[(data != 0).all(axis=1)]  # Tüm sütunlar için 0 olmayan satırları seçme\n",
        "data = data.dropna()  # NaN değerleri içeren satırları kaldırma\n",
        "\n",
        "# 'date' sütununu datetime formatına çevirme\n",
        "data['date_v'] = pd.to_datetime(data['date_v'])\n",
        "\n",
        "# 'date' sütununu Unix zaman damgasına çevirme\n",
        "data['unix_time'] = data['date_v'].apply(lambda x: int((x - datetime(1970, 1, 1)).total_seconds()))\n",
        "\n",
        "# Gereksiz sütunu ve orijinal tarih sütununu kaldırma\n",
        "data = data.drop([\"date_v\"], axis=1)\n",
        "\n",
        "# MinMaxScaler ile 'yukh', 'reg' ve 'power' sütunlarını ölçeklendirme\n",
        "scaler_yukh = MinMaxScaler()\n",
        "scaler_reg = MinMaxScaler()\n",
        "scaler_power = MinMaxScaler()\n",
        "\n",
        "data['yukh_scaled'] = scaler_yukh.fit_transform(data[['yukh']])\n",
        "data['reg_scaled'] = scaler_reg.fit_transform(data[['reg']])\n",
        "data['power_scaled'] = scaler_power.fit_transform(data[['power']])\n",
        "\n",
        "# Ölçeklenmiş sütunları veriden kaldırma\n",
        "data = data.drop([\"yukh\", \"reg\", \"power\"], axis=1)\n",
        "\n",
        "# Zaman serisi formatına dönüştürme\n",
        "def create_time_series_data(data, window_size):\n",
        "    X, y = [], []\n",
        "\n",
        "    for i in range(len(data) - window_size):\n",
        "        # Pencere boyutu kadar veriyi seçme\n",
        "        window_yukh = data['yukh_scaled'][i:i+window_size].values\n",
        "        window_reg = data['reg_scaled'][i:i+window_size].values\n",
        "        window_power = data['power_scaled'][i:i+window_size].values\n",
        "        target = data['yukh_scaled'][i: i + window_size]\n",
        "\n",
        "        X.append(np.column_stack((window_yukh, window_reg, window_power)))\n",
        "        y.append(target)\n",
        "\n",
        "    return np.array(X), np.array(y)\n",
        "\n",
        "# Pencere boyutunu belirleme (aynı boyutu kullanmalısınız)\n",
        "window_size = 64\n",
        "\n",
        "# Giriş ve hedef verilerini oluşturma\n",
        "X, y = create_time_series_data(data, window_size)\n",
        "\n",
        "# Modeli yükleme\n",
        "model = load_model('model9481.h5')\n",
        "\n",
        "# Test seti üzerinde tahmin yapma\n",
        "test_predictions = model.predict(X)\n",
        "\n",
        "# Test setindeki pencere boyutunda son gerçek değerler\n",
        "y_true = y[:, -1]\n",
        "\n",
        "# Test setindeki pencere boyutunda son tahminler\n",
        "y_pred = test_predictions[:, -1]\n",
        "\n",
        "# R-kare skoru hesaplama\n",
        "r2_test = r2_score(y_true, y_pred)\n",
        "\n",
        "print(f'Modelin Test R-kare skoru: {r2_test}')"
      ],
      "metadata": {
        "colab": {
          "base_uri": "https://localhost:8080/"
        },
        "id": "g9o_N87IMTMP",
        "outputId": "5e1e956e-2bc2-4dff-f33d-092c9687875d"
      },
      "execution_count": 12,
      "outputs": [
        {
          "output_type": "stream",
          "name": "stdout",
          "text": [
            "26/26 [==============================] - 1s 22ms/step\n",
            "Modelin Test R-kare skoru: 0.9739492825054626\n"
          ]
        }
      ]
    },
    {
      "cell_type": "code",
      "source": [
        "# Gerçek 'yukh' değerlerini al\n",
        "yukh_original = scaler_yukh.inverse_transform(y[:, -1].reshape(-1, 1)).flatten()\n",
        "\n",
        "# Tahmin edilen 'yukh' değerlerini ölçeklendirmeyi tersine çevirme\n",
        "predicted_yukh_original = scaler_yukh.inverse_transform(test_predictions[:, -1].reshape(-1, 1)).flatten()\n",
        "\n",
        "# Veri setindeki tarih bilgilerini al\n",
        "date_values = data.iloc[window_size:].index\n",
        "\n",
        "# Veri çerçevesi oluşturma, orijinal tarih bilgisini dahil ederek\n",
        "result_df = pd.DataFrame({'Gerçek Yukh': yukh_original,\n",
        "                          'Tahmin Yukh': predicted_yukh_original,\n",
        "                          'Date': date_values})\n",
        "\n",
        "# Sonuçları ekrana yazdırma\n",
        "print(result_df)\n",
        "\n",
        "# Veriyi Excel dosyasına yazma\n",
        "result_df.to_excel(\"gercek_tahmin_yukh1.xlsx\", index=False)"
      ],
      "metadata": {
        "colab": {
          "base_uri": "https://localhost:8080/"
        },
        "id": "CgqlwE3fNZhW",
        "outputId": "53ecb4b0-312d-4a9b-8c77-eb380e5bcce4"
      },
      "execution_count": 18,
      "outputs": [
        {
          "output_type": "stream",
          "name": "stdout",
          "text": [
            "     Gerçek Yukh  Tahmin Yukh  Date\n",
            "0         6047.0  6047.085449    64\n",
            "1         6044.0  6045.154297    65\n",
            "2         6045.0  6045.241699    66\n",
            "3         6046.0  6045.894043    67\n",
            "4         6043.0  6044.343262    68\n",
            "..           ...          ...   ...\n",
            "807       6007.0  6007.411133   873\n",
            "808       6006.0  6004.934082   874\n",
            "809       6005.0  6003.037109   875\n",
            "810       6004.0  6002.067383   876\n",
            "811       6005.0  6002.730469   877\n",
            "\n",
            "[812 rows x 3 columns]\n"
          ]
        }
      ]
    },
    {
      "cell_type": "code",
      "source": [
        "dff=pd.read_excel(\"guncellenmis_veriseti.xlsx\")\n",
        "print(dff.tail(22))"
      ],
      "metadata": {
        "colab": {
          "base_uri": "https://localhost:8080/"
        },
        "id": "gwVZFC4zRhPi",
        "outputId": "c95bfafe-cf30-439f-c56d-89265efc1041"
      },
      "execution_count": 29,
      "outputs": [
        {
          "output_type": "stream",
          "name": "stdout",
          "text": [
            "       id              date_v   reg  yukh   power  temp w_status\n",
            "856  2868 2024-01-27 19:15:00  4161  6033  305000     0        0\n",
            "857  2870 2024-01-27 19:30:00  4161  6034  304000     0        0\n",
            "858  2872 2024-01-27 19:45:00  4160  6033  304000     0        0\n",
            "859  2874 2024-01-27 20:00:00  4159  6033  304000     0        0\n",
            "860  2876 2024-01-27 20:15:00  4157  6035  304000     0        0\n",
            "861  2878 2024-01-27 20:30:00  4158  6033  305000     0        0\n",
            "862  2880 2024-01-27 20:45:00  4157  6034  305000     0        0\n",
            "863  2882 2024-01-27 21:00:00  4156  6031  304000     0        0\n",
            "864  2884 2024-01-27 21:15:00  4154  6029  305000     0        0\n",
            "865  2886 2024-01-27 21:30:00  4148  6030  305000     0        0\n",
            "866  2888 2024-01-27 21:45:00  4151  6027  305000     0        0\n",
            "867  2890 2024-01-27 22:00:00  4152  6023  303000     0        0\n",
            "868  2892 2024-01-27 22:15:00  4150  6018  304000     0        0\n",
            "869  2895 2024-01-27 22:30:00  4147  6018  304000     0        0\n",
            "870  2896 2024-01-27 22:45:00  4146  6016  304000     0        0\n",
            "871  2898 2024-01-27 23:00:00  4147  6012  303000     0        0\n",
            "872  2900 2024-01-27 23:15:00  4146  6007  302000     0        0\n",
            "873  2902 2024-01-27 23:30:00  4149  6006  303000     0        0\n",
            "874  2904 2024-01-27 23:45:00  4148  6005  303000     0        0\n",
            "875  2907 2024-01-28 00:00:00  4149  6004  303000     0        0\n",
            "876  2909 2024-01-28 00:15:00  4149  6005  301000     0        0\n",
            "877  2911 2024-01-28 00:30:00  4150  6005  302000     0        0\n"
          ]
        }
      ]
    },
    {
      "cell_type": "code",
      "source": [
        "dff1=pd.read_excel(\"gercek_tahmin_yukh1.xlsx\")\n",
        "print(dff1.tail(21))"
      ],
      "metadata": {
        "colab": {
          "base_uri": "https://localhost:8080/"
        },
        "id": "ZfiRU_ZzTMuJ",
        "outputId": "6be25513-4d3f-4694-91a3-1c17c625a38d"
      },
      "execution_count": 28,
      "outputs": [
        {
          "output_type": "stream",
          "name": "stdout",
          "text": [
            "     Gerçek Yukh  Tahmin Yukh  Date\n",
            "791       6033.0  6030.809082   857\n",
            "792       6034.0  6031.181641   858\n",
            "793       6033.0  6030.710938   859\n",
            "794       6033.0  6030.643555   860\n",
            "795       6035.0  6031.652344   861\n",
            "796       6033.0  6031.265625   862\n",
            "797       6034.0  6031.398926   863\n",
            "798       6031.0  6030.107910   864\n",
            "799       6029.0  6028.512207   865\n",
            "800       6030.0  6028.043945   866\n",
            "801       6027.0  6027.377930   867\n",
            "802       6023.0  6025.332031   868\n",
            "803       6018.0  6019.950684   869\n",
            "804       6018.0  6017.828125   870\n",
            "805       6016.0  6016.070312   871\n",
            "806       6012.0  6012.748535   872\n",
            "807       6007.0  6007.411133   873\n",
            "808       6006.0  6004.934082   874\n",
            "809       6005.0  6003.037109   875\n",
            "810       6004.0  6002.067383   876\n",
            "811       6005.0  6002.730469   877\n"
          ]
        }
      ]
    }
  ]
}
